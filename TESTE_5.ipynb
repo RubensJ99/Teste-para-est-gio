{
 "cells": [
  {
   "cell_type": "markdown",
   "metadata": {},
   "source": [
    "5) Você está em uma sala com três interruptores, cada um conectado a uma lâmpada em salas diferentes. Você não pode ver as lâmpadas da sala em que está, mas pode ligar e desligar os interruptores quantas vezes quiser. Seu objetivo é descobrir qual interruptor controla qual lâmpada. Como você faria para descobrir, usando apenas duas idas até uma das salas das lâmpadas, qual interruptor controla cada lâmpada?  "
   ]
  },
  {
   "cell_type": "markdown",
   "metadata": {},
   "source": [
    "R: ligaria o primeiro e ultímo interruptor e esperaria alguns minutos, depois desligaria o primeiro e iria até as lâmpadas, se eu entrasse na sala e a lâmpada estivesse acesa, o segundo interruptor controla essa lâmpada, se estivesse apagada e fria o terceiro interruptor controla, se não, estaria quente, então o primeiro interruptor que controla essa lâmpada. Depois de encontrar uma dessas respostas o próximo passo seria entrar na próxima sala e repetir os dois passos que sobraram e encontraria a resposta de qual interruptor controla cada lâmpada."
   ]
  }
 ],
 "metadata": {
  "language_info": {
   "name": "python"
  }
 },
 "nbformat": 4,
 "nbformat_minor": 2
}
