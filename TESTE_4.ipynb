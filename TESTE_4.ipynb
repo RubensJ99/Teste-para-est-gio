{
 "cells": [
  {
   "cell_type": "markdown",
   "metadata": {},
   "source": [
    "4) Descubra a lógica e complete o próximo elemento:\n",
    "a) 1, 3, 5, 7, ___\n",
    "b) 2, 4, 8, 16, 32, 64, ____\n",
    "c) 0, 1, 4, 9, 16, 25, 36, ____\n",
    "d) 4, 16, 36, 64, ____\n",
    "e) 1, 1, 2, 3, 5, 8, ____\n",
    "f) 2,10, 12, 16, 17, 18, 19, ____\n"
   ]
  },
  {
   "cell_type": "markdown",
   "metadata": {},
   "source": [
    "#RESPOSTA SEM CÓDIGO#\n",
    "a) 1, 3, 5, 7,9 (LÓGICA: DE DOIS EM DOIS)\n",
    "\n",
    "\n",
    "b) 2, 4, 8, 16, 32, 64, 128(LÓGICA: O NÚMERO VEZES ELE MESMO)\n",
    "\n",
    "c) 0, 1, 4, 9, 16, 25, 36, 49(LÓGICA: É A POTÊNCIA DE CADA INDICE DA LISTA DE NÚMEROS)\n",
    "\n",
    "d) 4, 16, 36, 64, 100 (LÓGICA: É A POTÊNCIA DE NÚMEROS PARES COMEÇANDO COM O 2)\n",
    "\n",
    "e) 1, 1, 2, 3, 5, 8, 13 (LÓGICA: SEQUÊNCIA DE FIBONACCI, EXERCÍCIO INTERIOR)\n",
    "\n",
    "F)2,10, 12, 16, 17, 18, 19,200 (NÃO ENCONTREI A LÓGICA SEM PESQUISAR)"
   ]
  }
 ],
 "metadata": {
  "language_info": {
   "name": "python"
  }
 },
 "nbformat": 4,
 "nbformat_minor": 2
}
