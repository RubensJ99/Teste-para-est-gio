{
 "cells": [
  {
   "cell_type": "markdown",
   "metadata": {},
   "source": [
    "1) Dado a sequência de Fibonacci, onde se inicia por 0 e 1 e o próximo valor sempre será a soma dos 2 valores anteriores (exemplo: 0, 1, 1, 2, 3, 5, 8, 13, 21, 34...), escreva um programa na linguagem que desejar onde, informado um número, ele calcule a sequência de Fibonacci e retorne uma mensagem avisando se o número informado pertence ou não a sequência.\n",
    "\n",
    "IMPORTANTE: Esse número pode ser informado através de qualquer entrada de sua preferência ou pode ser previamente definido no código;"
   ]
  },
  {
   "cell_type": "code",
   "execution_count": 5,
   "metadata": {},
   "outputs": [
    {
     "name": "stdout",
     "output_type": "stream",
     "text": [
      "Número 13 pertence a sequência\n"
     ]
    }
   ],
   "source": [
    "#número informado atraves de um input\n",
    "num_escolha = int(input('digite um valor'))\n",
    "\n",
    "#calculo Fibonacci\n",
    "def verificar_sefibonacci(num):\n",
    "    if num < 0:\n",
    "        ('número negativo não pode')\n",
    "        return False\n",
    "    seq=[0,1,1]\n",
    "    while seq[-1] < num:\n",
    "        proximo_num = seq[-1] + seq[-2]\n",
    "        seq.append(proximo_num)\n",
    "        return seq\n",
    "\n",
    "e_sequencia = verificar_sefibonacci(num_escolha)\n",
    "#resposta do programa\n",
    "if e_sequencia:\n",
    "    print('Número {} pertence a sequência'.format(num_escolha))\n",
    "else:\n",
    "    print('Número {} não pertence a sequência'.format(num_escolha))\n",
    "\n",
    "\n",
    "\n",
    "\n"
   ]
  }
 ],
 "metadata": {
  "kernelspec": {
   "display_name": "Python 3",
   "language": "python",
   "name": "python3"
  },
  "language_info": {
   "codemirror_mode": {
    "name": "ipython",
    "version": 3
   },
   "file_extension": ".py",
   "mimetype": "text/x-python",
   "name": "python",
   "nbconvert_exporter": "python",
   "pygments_lexer": "ipython3",
   "version": "3.12.4"
  }
 },
 "nbformat": 4,
 "nbformat_minor": 2
}
