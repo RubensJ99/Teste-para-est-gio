{
 "cells": [
  {
   "cell_type": "markdown",
   "metadata": {},
   "source": [
    "2) Escreva um programa que verifique, em uma string, a existência da letra ‘a’, seja maiúscula ou minúscula,\n",
    "além de informar a quantidade de vezes em que ela ocorre.\n",
    "\n",
    "IMPORTANTE: Essa string pode ser informada através de qualquer entrada de sua preferência ou pode ser previamente definida no código;"
   ]
  },
  {
   "cell_type": "code",
   "execution_count": 1,
   "metadata": {},
   "outputs": [
    {
     "name": "stdout",
     "output_type": "stream",
     "text": [
      "exite 1 letra \"A\".\n"
     ]
    }
   ],
   "source": [
    "str_escolha = input('escreva alguma coisa')\n",
    "\n",
    "def contador_a (escolha):\n",
    "    #função que trata e informa a quantidade de letra \"A\" na string informada por um input.\n",
    "    escolha = str.casefold(escolha)#coloquei a string toda em letra minúscula com método casefold.\n",
    "    qtd_a = str(escolha).count('a')#método em python para contar a quantidade de vezes que um caracter especificado aparece.\n",
    "    if qtd_a <=0:#verifica a quatindade de letra 'A' na string \n",
    "        print('Não tem letra \"A\" ')\n",
    "    elif qtd_a == 1:\n",
    "        print('exite {} letra \"A\".'.format(qtd_a))\n",
    "    else:\n",
    "        print('exite {} letras \"A\".'.format(qtd_a))\n",
    "       \n",
    "contador_a(str_escolha)\n",
    "\n",
    "\n"
   ]
  }
 ],
 "metadata": {
  "kernelspec": {
   "display_name": "Python 3",
   "language": "python",
   "name": "python3"
  },
  "language_info": {
   "codemirror_mode": {
    "name": "ipython",
    "version": 3
   },
   "file_extension": ".py",
   "mimetype": "text/x-python",
   "name": "python",
   "nbconvert_exporter": "python",
   "pygments_lexer": "ipython3",
   "version": "3.12.4"
  }
 },
 "nbformat": 4,
 "nbformat_minor": 2
}
